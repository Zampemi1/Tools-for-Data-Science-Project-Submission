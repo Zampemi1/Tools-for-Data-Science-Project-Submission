{
 "cells": [
  {
   "cell_type": "markdown",
   "id": "023f57c4",
   "metadata": {},
   "source": [
    "# Data Science Tools and Ecosystem "
   ]
  },
  {
   "cell_type": "markdown",
   "id": "ce4eec73",
   "metadata": {},
   "source": [
    "In this notebook, Data Science Tools and Ecosystem are summarized."
   ]
  },
  {
   "cell_type": "markdown",
   "id": "f8a563d5",
   "metadata": {},
   "source": [
    "### Objectives\n",
    "\n",
    "- List popular languages for data science\n",
    "- List commonly used libraries for data science\n",
    "- Evaluate arithmetic expressions in Python\n",
    "- Convert hours to minutes in Python\n"
   ]
  },
  {
   "cell_type": "markdown",
   "id": "68b12195",
   "metadata": {},
   "source": [
    "Some of the popular languages that Data Scientists use are:\n",
    "1. Python\n",
    "2. SQL\n",
    "3. Java\n",
    "4. SAS\n",
    "5. Scala"
   ]
  },
  {
   "cell_type": "markdown",
   "id": "82936e1d",
   "metadata": {},
   "source": [
    "Some of the commonly used libraries used by Data Scientists include: \n",
    "1. scikit-learn\n",
    "2. PyTorch\n",
    "3. NumPy\n",
    "4. SciPy"
   ]
  },
  {
   "cell_type": "markdown",
   "id": "3f1d02fa",
   "metadata": {},
   "source": [
    "| Data Science Tools |\n",
    "| :----------------: |\n",
    "| RStudio            |\n",
    "| ------------------ |\n",
    "| Apache Spark       |\n",
    "| ------------------ |\n",
    "| TensorFlow         |"
   ]
  },
  {
   "cell_type": "markdown",
   "id": "137f8f11",
   "metadata": {},
   "source": [
    "### Below are a few examples of evaluating arithmetic expressions in Python"
   ]
  },
  {
   "cell_type": "code",
   "execution_count": 1,
   "id": "d9e1832d",
   "metadata": {},
   "outputs": [
    {
     "data": {
      "text/plain": [
       "17"
      ]
     },
     "execution_count": 1,
     "metadata": {},
     "output_type": "execute_result"
    }
   ],
   "source": [
    "#This is a simple arithmetic expression to multiply then add integers.\n",
    "\n",
    "r = (3*4)+5\n",
    "r"
   ]
  },
  {
   "cell_type": "code",
   "execution_count": 2,
   "id": "c74b85d0",
   "metadata": {},
   "outputs": [
    {
     "data": {
      "text/plain": [
       "3.3333333333333335"
      ]
     },
     "execution_count": 2,
     "metadata": {},
     "output_type": "execute_result"
    }
   ],
   "source": [
    "#This will convert 200 minutes to hours by dividing by 60\n",
    "\n",
    "hours = 200/60\n",
    "hours"
   ]
  },
  {
   "cell_type": "markdown",
   "id": "a8bee9c7",
   "metadata": {},
   "source": [
    "## Author\n",
    "Michael Zampetti"
   ]
  },
  {
   "cell_type": "code",
   "execution_count": null,
   "id": "7f9834a1",
   "metadata": {},
   "outputs": [],
   "source": []
  }
 ],
 "metadata": {
  "kernelspec": {
   "display_name": "Python 3 (ipykernel)",
   "language": "python",
   "name": "python3"
  },
  "language_info": {
   "codemirror_mode": {
    "name": "ipython",
    "version": 3
   },
   "file_extension": ".py",
   "mimetype": "text/x-python",
   "name": "python",
   "nbconvert_exporter": "python",
   "pygments_lexer": "ipython3",
   "version": "3.9.7"
  }
 },
 "nbformat": 4,
 "nbformat_minor": 5
}
